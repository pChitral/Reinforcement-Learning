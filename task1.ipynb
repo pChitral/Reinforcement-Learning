{
 "cells": [
  {
   "cell_type": "code",
   "execution_count": 58,
   "metadata": {},
   "outputs": [],
   "source": [
    "import gym\n",
    "from gym import spaces\n",
    "import numpy as np\n",
    "import matplotlib.pyplot as plt\n",
    "\n",
    "\n",
    "class LawnmowerEnv(gym.Env):\n",
    "    metadata = {'render.modes': ['human']}\n",
    "\n",
    "    def __init__(self):\n",
    "        # Define the observation and action spaces\n",
    "        self.observation_space = spaces.Discrete(16)\n",
    "        self.action_space = spaces.Discrete(4)\n",
    "\n",
    "        # Initialize the grid\n",
    "        self.grid = np.array([[-6, -5, -6, -5],\n",
    "                              [5, -6,  5, -6],\n",
    "                              [-5,  6, -5,  6],\n",
    "                              [6, -5,  6, -5]])\n",
    "\n",
    "        # Initialize the agent and goal positions\n",
    "        self.agent_pos = np.array([0, 0])\n",
    "        self.goal_pos = np.array([3, 3])\n",
    "\n",
    "        # Initialize the reward\n",
    "        self.reward = 0\n",
    "\n",
    "    def reset(self):\n",
    "        # Reset the agent position and reward\n",
    "        self.agent_pos = np.array([0, 0])\n",
    "        self.reward = 0\n",
    "\n",
    "        # Return the initial observation\n",
    "        return self._get_observation()\n",
    "\n",
    "    def step(self, action):\n",
    "        # Move the agent based on the chosen action\n",
    "        if action == 0:\n",
    "            self.agent_pos[0] -= 1  # Up\n",
    "        elif action == 1:\n",
    "            self.agent_pos[0] += 1  # Down\n",
    "        elif action == 2:\n",
    "            self.agent_pos[1] += 1  # Right\n",
    "        elif action == 3:\n",
    "            self.agent_pos[1] -= 1  # Left\n",
    "\n",
    "        # Keep the agent within the grid boundaries\n",
    "        self.agent_pos = np.clip(self.agent_pos, 0, 3)\n",
    "\n",
    "        # Calculate the reward based on the new agent position\n",
    "        self.reward = self.grid[tuple(self.agent_pos)]\n",
    "\n",
    "        # Check if the episode is done\n",
    "        done = bool(self.reward > 0 or np.array_equal(\n",
    "            self.agent_pos, self.goal_pos))\n",
    "\n",
    "        # Return the new observation, reward, done flag, and info dictionary\n",
    "        return self._get_observation(), self.reward, done, {}\n",
    "\n",
    "    def render(self, mode='human'):\n",
    "        # Create a new figure\n",
    "        fig, ax = plt.subplots()\n",
    "        \"\"\" \n",
    "        This code creates a scatter plot of the gridworld using the scatter method of matplotlib.axes.Axes object. \n",
    "        The plot is created for each position in the gridworld, with red markers for negative values, \n",
    "        blue markers for zero values, and green markers for positive values. \n",
    "        The agent's current position is marked with a yellow square, \n",
    "        while the goal position is marked with a magenta square.\n",
    "\n",
    "        To use this method, you can simply call env.plot() where env is an instance of LawnmowerEnv.\n",
    "        \"\"\"\n",
    "        # Plot the grid with markers for different tile types\n",
    "        for i in range(4):\n",
    "            for j in range(4):\n",
    "                if self.grid[i][j] < 0:\n",
    "                    ax.scatter(j, i, marker='X', color='r', s=1000)\n",
    "                elif self.grid[i][j] == 0:\n",
    "                    ax.scatter(j, i, marker='o', color='b', s=1000)\n",
    "                elif self.grid[i][j] > 0:\n",
    "                    ax.scatter(j, i, marker='o', color='g', s=1000)\n",
    "\n",
    "        # Plot the agent and goal positions\n",
    "        ax.scatter(self.agent_pos[1], 3 - self.agent_pos[0],\n",
    "                   marker='s', color='y', s=1000)\n",
    "        ax.scatter(self.goal_pos[1], 3 - self.goal_pos[0],\n",
    "                   marker='s', color='m', s=1000)\n",
    "\n",
    "        # Set the x and y axis limits\n",
    "        ax.set_xlim([-0.5, 3.5])\n",
    "        ax.set_ylim([-0.5, 3.5])\n",
    "\n",
    "        # Show the plot\n",
    "        plt.show()\n",
    "\n",
    "    def _get_observation(self):\n",
    "        # Convert the agent position to an observation index\n",
    "        return np.ravel_multi_index(tuple(self.agent_pos), (4, 4))\n"
   ]
  },
  {
   "cell_type": "code",
   "execution_count": 59,
   "metadata": {},
   "outputs": [
    {
     "data": {
      "image/png": "[encoded data removed]",
      "text/plain": [
       "<Figure size 640x480 with 1 Axes>"
      ]
     },
     "metadata": {},
     "output_type": "display_data"
    },
    {
     "name": "stdout",
     "output_type": "stream",
     "text": [
      "Action: 1\n",
      "Reward: 5\n",
      "Done: True\n"
     ]
    }
   ],
   "source": [
    "env = LawnmowerEnv()\n",
    "obs = env.reset()\n",
    "\n",
    "for t in range(10):\n",
    "    action = env.action_space.sample()\n",
    "    obs, reward, done, _ = env.step(action)\n",
    "    env.render()\n",
    "    print('Action:', action)\n",
    "    print('Reward:', reward)\n",
    "    print('Done:', done)\n",
    "    if done:\n",
    "        break"
   ]
  },
  {
   "attachments": {},
   "cell_type": "markdown",
   "metadata": {},
   "source": [
    "The environment defined here is a gridworld called \"LawnmowerEnv\". The gridworld consists of a 4x4 grid, where each cell has a certain reward value. The agent's objective is to reach the goal position, which is located at the bottom-right corner of the grid. The agent can move in four directions - up, down, left, and right - and receives a reward based on the value of the cell it moves into. The episode ends when the agent reaches the goal position or moves into a cell with a positive reward.\n",
    "\n",
    "The visualization of the environment is provided by the render method of the LawnmowerEnv class. It creates a scatter plot of the gridworld using the scatter method of matplotlib.axes.Axes object. The plot is created for each position in the gridworld, with red markers for negative values, blue markers for zero values, and green markers for positive values. The agent's current position is marked with a yellow square, while the goal position is marked with a magenta square.\n",
    "\n",
    "To ensure the safety of the environment, the step method of the LawnmowerEnv class restricts the agent's movement to within the boundaries of the gridworld. This is done using the np.clip method, which clips the agent's position to the limits of the grid. Additionally, the action_space and observation_space attributes of the LawnmowerEnv class ensure that the agent only chooses actions that are allowed, and the agent navigates within the defined state-space. The action_space attribute restricts the agent to four discrete actions - up, down, left, and right - while the observation_space attribute restricts the agent's observation space to a discrete set of 16 states."
   ]
  },
  {
   "cell_type": "code",
   "execution_count": null,
   "metadata": {},
   "outputs": [],
   "source": []
  },
  {
   "cell_type": "code",
   "execution_count": null,
   "metadata": {},
   "outputs": [],
   "source": []
  }
 ],
 "metadata": {
  "kernelspec": {
   "display_name": "base",
   "language": "python",
   "name": "python3"
  },
  "language_info": {
   "codemirror_mode": {
    "name": "ipython",
    "version": 3
   },
   "file_extension": ".py",
   "mimetype": "text/x-python",
   "name": "python",
   "nbconvert_exporter": "python",
   "pygments_lexer": "ipython3",
   "version": "3.9.16"
  },
  "orig_nbformat": 4
 },
 "nbformat": 4,
 "nbformat_minor": 2
}
